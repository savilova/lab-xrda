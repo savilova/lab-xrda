{
 "cells": [
  {
   "cell_type": "code",
   "execution_count": 1,
   "metadata": {},
   "outputs": [],
   "source": [
    "import numpy "
   ]
  },
  {
   "cell_type": "markdown",
   "metadata": {},
   "source": [
    "This is a python translation of a script presented in the article\n",
    "'Algorithm for fitting XRF, SEM and PIXE X-ray spectra\n",
    "backgrounds'\n",
    "by M.A. Kneen and H.J. Annegarn (1996)\n"
   ]
  },
  {
   "cell_type": "code",
   "execution_count": 4,
   "metadata": {},
   "outputs": [
    {
     "ename": "NameError",
     "evalue": "name 'np' is not defined",
     "output_type": "error",
     "traceback": [
      "\u001b[1;31m---------------------------------------------------------------------------\u001b[0m",
      "\u001b[1;31mNameError\u001b[0m                                 Traceback (most recent call last)",
      "\u001b[1;32m<ipython-input-4-977c5cf9a5fc>\u001b[0m in \u001b[0;36m<module>\u001b[1;34m\u001b[0m\n\u001b[0;32m     23\u001b[0m \u001b[0mc_energy\u001b[0m\u001b[1;33m=\u001b[0m\u001b[1;36m4.123\u001b[0m \u001b[1;31m# Energy calibration const\u001b[0m\u001b[1;33m\u001b[0m\u001b[1;33m\u001b[0m\u001b[0m\n\u001b[0;32m     24\u001b[0m \u001b[0mm_energy\u001b[0m\u001b[1;33m=\u001b[0m\u001b[1;36m0.0204\u001b[0m \u001b[1;31m# Energy calibration gradient\u001b[0m\u001b[1;33m\u001b[0m\u001b[1;33m\u001b[0m\u001b[0m\n\u001b[1;32m---> 25\u001b[1;33m \u001b[0mspectra\u001b[0m \u001b[1;33m=\u001b[0m \u001b[0mnp\u001b[0m\u001b[1;33m.\u001b[0m\u001b[0mzeros\u001b[0m\u001b[1;33m(\u001b[0m\u001b[1;36m1024\u001b[0m\u001b[1;33m,\u001b[0m \u001b[0mdtype\u001b[0m\u001b[1;33m=\u001b[0m\u001b[0mnp\u001b[0m\u001b[1;33m.\u001b[0m\u001b[0mint32\u001b[0m\u001b[1;33m)\u001b[0m\u001b[1;33m\u001b[0m\u001b[1;33m\u001b[0m\u001b[0m\n\u001b[0m\u001b[0;32m     26\u001b[0m \u001b[0mpeaks\u001b[0m \u001b[1;33m=\u001b[0m \u001b[0mnp\u001b[0m\u001b[1;33m.\u001b[0m\u001b[0mseros\u001b[0m\u001b[1;33m(\u001b[0m\u001b[1;36m1024\u001b[0m\u001b[1;33m,\u001b[0m \u001b[0mdtype\u001b[0m \u001b[1;33m=\u001b[0m \u001b[0mnp\u001b[0m\u001b[1;33m.\u001b[0m\u001b[0mfloat32\u001b[0m\u001b[1;33m)\u001b[0m\u001b[1;33m\u001b[0m\u001b[1;33m\u001b[0m\u001b[0m\n\u001b[0;32m     27\u001b[0m \u001b[1;33m\u001b[0m\u001b[0m\n",
      "\u001b[1;31mNameError\u001b[0m: name 'np' is not defined"
     ]
    }
   ],
   "source": [
    "\"\"\"\n",
    "PROGRAM WHEXFIT;\n",
    "CONST{potential fit parameters to be varied with least squares fitting}\n",
    "    pwhma =0.4; {peak width half max a}\n",
    "    pwhmb =0.2; {peak width half max b}\n",
    "    fitconst=5; {constant to ensure ball is slightly wider than the peaks - fit adjusted}\n",
    "    Cenergy=4.123; {Energy calibration const}\n",
    "    Menergy=0.0204; {Energy calibration gradient}\n",
    "TYPE Spectras=ARRAY[l..1024] of Integer;\n",
    "    Peaks=ARRAY[I..1024,1..5] of Real;\n",
    "\n",
    "\n",
    "\n",
    "VAR Peaklist : Peaks;\n",
    "Spec, Back, Peak, Espc : Spectras;\n",
    "Input~le, Backfile, SpecFile, PeakFile, ErrrFile : Text;\n",
    "Error, FitisGood : Boolean;\n",
    "\"\"\"\n",
    "# potential fit parameters to be varied with least squares fitting\n",
    "pwhma =0.4 # peak width half max a\n",
    "pwhmb =0.2 # peak width half max b\n",
    "fitconst=5 # constant to ensure ball is slightly wider than the peaks - fit adjusted\n",
    "c_energy=4.123 # Energy calibration const\n",
    "m_energy=0.0204 # Energy calibration gradient\n",
    "spectra = np.zeros(1024, dtype=np.int32)\n",
    "peaks = np.seros(1024, dtype = np.float32)\n",
    "\n"
   ]
  },
  {
   "cell_type": "code",
   "execution_count": null,
   "metadata": {},
   "outputs": [],
   "source": []
  }
 ],
 "metadata": {
  "kernelspec": {
   "display_name": "Python 3",
   "language": "python",
   "name": "python3"
  },
  "language_info": {
   "codemirror_mode": {
    "name": "ipython",
    "version": 3
   },
   "file_extension": ".py",
   "mimetype": "text/x-python",
   "name": "python",
   "nbconvert_exporter": "python",
   "pygments_lexer": "ipython3",
   "version": "3.7.1"
  }
 },
 "nbformat": 4,
 "nbformat_minor": 2
}
