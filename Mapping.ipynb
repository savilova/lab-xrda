{
 "cells": [
  {
   "cell_type": "markdown",
   "metadata": {},
   "source": [
    "# Crystallinity maps of semicrystalline polymer (R-BAPB) \n",
    "## 2D X-ray scattering experiment\n",
    "\n"
   ]
  },
  {
   "cell_type": "code",
   "execution_count": null,
   "metadata": {},
   "outputs": [],
   "source": [
    "import h5py\n",
    "import numpy as np\n",
    "import scipy as scipy\n",
    "from scipy import optimize\n",
    "from scipy import signal\n",
    "import matplotlib\n",
    "import matplotlib.pyplot as plt\n",
    "from matplotlib.ticker import AutoMinorLocator\n",
    "from matplotlib import gridspec\n",
    "import matplotlib.ticker as ticker\n",
    "import time\n",
    "import peakutils\n",
    "\n",
    "%matplotlib inline"
   ]
  },
  {
   "cell_type": "code",
   "execution_count": null,
   "metadata": {},
   "outputs": [],
   "source": [
    "#Initial global parameters\n",
    "\n",
    "file_name = \"H://LP/R-BAPB/print72.h5\"\n",
    "file_num = '72'\n",
    "data_inner_directory = \"data/data\" # path to data inside the file\n",
    "map_width = 1 #default value\n",
    "min_ROI_q = 570 # region of interest for q, data point indices\n",
    "max_ROI_q = 650\n",
    "min_ROI_chi = 0 # region of interest for angle chi, data point indices\n",
    "max_ROI_chi = 720 "
   ]
  },
  {
   "cell_type": "code",
   "execution_count": null,
   "metadata": {},
   "outputs": [],
   "source": [
    "#Opening h5 file\n",
    "file = h5py.File(file_name, \"r\") # reading mode\n",
    "all_scans = file[data_inner_directory] \n",
    "map_width = int(all_scans.shape[0]**0.5) \n",
    "q_set = file[\"data/q\"] # actual values for q and chi\n",
    "\n",
    "\n",
    "chi_set = file[\"data/chi\"]"
   ]
  },
  {
   "cell_type": "code",
   "execution_count": null,
   "metadata": {},
   "outputs": [],
   "source": [
    "np.save('q_set',q_set)\n",
    "np.save('chi_set', chi_set)"
   ]
  },
  {
   "cell_type": "code",
   "execution_count": null,
   "metadata": {},
   "outputs": [],
   "source": [
    "scan = all_scans[1000]\n",
    "plt.imshow(scan, cmap = 'jet', clim = (0.01,1))"
   ]
  },
  {
   "cell_type": "code",
   "execution_count": null,
   "metadata": {},
   "outputs": [],
   "source": [
    "plt.hist(scan[1], bins = 300)\n",
    "plt.show()"
   ]
  },
  {
   "cell_type": "code",
   "execution_count": null,
   "metadata": {},
   "outputs": [],
   "source": [
    "scan = np.load('scan_sum1434.npy')"
   ]
  },
  {
   "cell_type": "code",
   "execution_count": null,
   "metadata": {},
   "outputs": [],
   "source": [
    "for row in scan:\n",
    "    row[row<0]= np.nan\n",
    "    \n",
    "print (scan[10])"
   ]
  },
  {
   "cell_type": "code",
   "execution_count": null,
   "metadata": {},
   "outputs": [],
   "source": []
  },
  {
   "cell_type": "code",
   "execution_count": null,
   "metadata": {},
   "outputs": [],
   "source": [
    "#Global normalization\n",
    "mu = np.nanmean(scan)\n",
    "sigma = np.nanstd(scan)\n",
    "\n",
    "mu,sigma"
   ]
  },
  {
   "cell_type": "code",
   "execution_count": null,
   "metadata": {},
   "outputs": [],
   "source": [
    "for row in scan:\n",
    "    for cell in row:\n",
    "        if cell:\n",
    "            cell = (cell-mu)/sigma"
   ]
  },
  {
   "cell_type": "code",
   "execution_count": null,
   "metadata": {},
   "outputs": [],
   "source": [
    "plt.imshow(scan, cmap = 'jet', clim = (0.01,0.7))"
   ]
  },
  {
   "cell_type": "code",
   "execution_count": null,
   "metadata": {},
   "outputs": [],
   "source": []
  },
  {
   "cell_type": "code",
   "execution_count": null,
   "metadata": {},
   "outputs": [],
   "source": [
    "\n",
    "min_ROI_q = 570 # region of interest for q, data point indices\n",
    "max_ROI_q = 650\n",
    "\n",
    "profile_sum = np.zeros(all_scans.shape[2], dtype=np.float32)\n",
    "        \n",
    "j_counter = 0\n",
    "for j in range (min_ROI_chi,max_ROI_chi):\n",
    "    profile = np.nan_to_num(scan[j])           \n",
    "    profile_sum += profile\n",
    "    j_counter+=1\n",
    "#profile_sum/=j_counter\n",
    "\n",
    "\n",
    "x = q_set[min_ROI_q:max_ROI_q]\n",
    "y = profile_sum[min_ROI_q:max_ROI_q]\n",
    "\n",
    "plt.figure(figsize=(10,6))\n",
    "plt.plot(x,y)\n",
    "profile_sum"
   ]
  },
  {
   "cell_type": "code",
   "execution_count": null,
   "metadata": {},
   "outputs": [],
   "source": [
    "#local normalisation\n",
    "local_mu = np.nanmean(profile_sum[min_ROI_q-100:max_ROI_q+100])\n",
    "local_sigma = np.nanstd(profile_sum[min_ROI_q-100:max_ROI_q+100])\n",
    "\n",
    "local_profile = profile_sum[min_ROI_q-100:max_ROI_q+100]\n",
    "\n",
    "for cell in local_profile:\n",
    "    cell = (cell - local_mu)/local_sigma"
   ]
  },
  {
   "cell_type": "code",
   "execution_count": null,
   "metadata": {},
   "outputs": [],
   "source": [
    "plt.figure(figsize=(10,6))\n",
    "plt.plot(q_set[min_ROI_q:max_ROI_q],local_profile[100:-100])\n"
   ]
  },
  {
   "cell_type": "code",
   "execution_count": null,
   "metadata": {},
   "outputs": [],
   "source": [
    "local_profile[100:-100] == profile_sum[min_ROI_q:max_ROI_q]"
   ]
  },
  {
   "cell_type": "code",
   "execution_count": null,
   "metadata": {},
   "outputs": [],
   "source": [
    "#without normalization\n",
    "new_scan = np.load('scan_sum1434.npy')\n",
    "\n",
    "min_ROI_q = 570 # region of interest for q, data point indices\n",
    "max_ROI_q = 650\n",
    "\n",
    "new_profile_sum = np.zeros(all_scans.shape[2], dtype=np.float32)\n",
    "        \n",
    "j_counter = 0\n",
    "for j in range (min_ROI_chi,max_ROI_chi):\n",
    "    profile = new_scan[j]    \n",
    "    if (-10 not in profile[min_ROI_q:max_ROI_q]):\n",
    "        new_profile_sum += profile\n",
    "        j_counter+=1\n",
    "#profile_sum/=j_counter\n",
    "\n",
    "\n",
    "x = q_set[min_ROI_q:max_ROI_q]\n",
    "y = new_profile_sum[min_ROI_q:max_ROI_q]\n",
    "\n",
    "plt.figure(figsize=(10,6))\n",
    "plt.plot(x,y)\n",
    "new_profile_sum"
   ]
  },
  {
   "cell_type": "code",
   "execution_count": null,
   "metadata": {},
   "outputs": [],
   "source": [
    "#Mapping by simply integrating in ROI_q\n",
    "\n",
    "\n",
    "#baseline = np.load('1434profile.npy')\n",
    "start_time = time.time() #time counter\n",
    "stn_map_data = np.zeros((map_width,map_width), dtype=np.float32) \n",
    "\n",
    "for i in range(map_width**2):\n",
    "        current_scan = all_scans[i]   \n",
    "        profile_sum = np.zeros(all_scans.shape[2], dtype=np.float32)\n",
    "        \n",
    "        j_counter = 0\n",
    "        for j in range (min_ROI_chi,max_ROI_chi):\n",
    "            profile = current_scan[j]           \n",
    "            if (-10 not in profile[min_ROI_q-70:max_ROI_q+70]):\n",
    "                profile_sum += profile\n",
    "                j_counter+=1\n",
    "        profile_sum/=j_counter\n",
    "        \n",
    "        \n",
    "        y_wide = scipy.signal.savgol_filter(profile_sum[min_ROI_q-70:max_ROI_q+70], window_length= 25, polyorder= 3, deriv=0, delta=0.1, axis=-1, mode='interp', cval=0.0)\n",
    "        #base = peakutils.baseline(profile_sum[min_ROI_q-70:max_ROI_q+70], deg=5)\n",
    "        #y_wide= profile_sum[min_ROI_q-70:max_ROI_q+70]-base\n",
    "        \n",
    "\n",
    "        x_set = q_set[min_ROI_q:max_ROI_q]\n",
    "        y_set = y_wide[70:-70]\n",
    "\n",
    "        #popt, pcov = scipy.optimize.curve_fit(gaussian, x, y, p0=[1.3,0.05,0.5,0.1], method = 'dogbox')\n",
    "        I = scipy.integrate.trapz(x = x_set, y = y_set)\n",
    "        print(I)\n",
    "        \n",
    "        \n",
    "        x = int(i%map_width)\n",
    "        y = int(i//map_width)\n",
    "        \n",
    "        stn_map_data[y, x]=I\n",
    "        print(i,\"--- %s seconds ---\" % (time.time() - start_time))\n",
    "\n",
    "#saving map data\n",
    "\n",
    "np.save(file_num + 'trapz_map_data', stn_map_data)"
   ]
  },
  {
   "cell_type": "code",
   "execution_count": null,
   "metadata": {},
   "outputs": [],
   "source": [
    "#Summing all  scans of the experiment\n",
    "\n",
    "\n",
    "scan_sum = np.zeros((all_scans.shape[1],all_scans.shape[2]), dtype = np.float32)\n",
    "start_time = time.time()\n",
    "for scan in all_scans:\n",
    "    scan_sum+=scan\n",
    "    print(\"--- %s seconds ---\" % (time.time() - start_time))\n",
    "    \n",
    "scan_sum/=all_scans.shape[0] #normalizing\n",
    "\n",
    "#saving\n",
    "\n",
    "np.save('scan_sum' + file_num, scan_sum)"
   ]
  },
  {
   "cell_type": "code",
   "execution_count": null,
   "metadata": {},
   "outputs": [],
   "source": [
    "#Assembling a normilized profile from different parts of a scan (because yeah I don't have mask files)\n",
    "\n",
    "#scan_sum = np.load('scan_sum' + file_num + '.npy', )\n",
    "\n",
    "#TODO - зашкал при i=6 - почему???\n",
    "#Сшивка между срезами - чем больше N, тем меньше разница\n",
    "\n",
    "M = all_scans.shape[2] #number of points in profile\n",
    "N=3 #number of slices\n",
    "halo_profile = np.zeros(M, dtype=np.float32)\n",
    "for i in range(N):  \n",
    "    \n",
    "    min_slice = int(M*i/N)\n",
    "    max_slice = int(M*(i+1)/N)\n",
    "    counter = 0 \n",
    "    print(i, min_slice, max_slice)\n",
    "    local_sum = np.zeros(M, dtype=np.float32)\n",
    "    \n",
    "    for j in range(min_ROI_chi, max_ROI_chi):\n",
    "        profile = scan_sum[j]\n",
    "        if not any(x<=0 for x in profile[min_slice:max_slice]):\n",
    "            local_sum[min_slice:max_slice]+=profile[min_slice:max_slice]        \n",
    "            counter +=1\n",
    "                \n",
    "    print(counter)\n",
    "    halo_profile[min_slice:max_slice] += (local_sum[min_slice:max_slice]/counter) \n",
    "\n",
    "\n",
    "fig = plt.figure(figsize=(15,10))\n",
    "plt.plot(q_set,halo_profile, label = 'halo profile')\n",
    "\n",
    "\n",
    "#Setting scale \n",
    "ax = fig.add_subplot(2, 1, 1)\n",
    "ax.loglog(q_set,halo_profile, label = 'loglog halo profile')\n",
    "\n",
    "#ax.set_xscale('log')\n",
    "#ax.set_yscale('log')\n",
    "plt.legend()\n",
    "\n",
    "#saving\n",
    "np.save('halo_profile' + file_num, scan_sum)\n",
    "np.savetxt('halo_profile' + file_num + '.txt', halo_profile)\n",
    "np.savetxt('q_set' + file_num + '.txt', q_set)\n"
   ]
  },
  {
   "cell_type": "code",
   "execution_count": null,
   "metadata": {},
   "outputs": [],
   "source": [
    "#Loading corrected halo profile\n",
    "halo_baseline = np.loadtxt('halo_baseline' + file_num +'.txt')\n",
    "print(halo_baseline)\n",
    "#Integrating, saving\n",
    "\n",
    "#1434 halo slice: 45-1998\n",
    "halo_min = 1\n",
    "halo_max = 2000\n",
    "\n",
    "I =scipy.integrate.trapz(y = halo_baseline, x = q_set[halo_min-1:halo_max])\n",
    "print (I)\n",
    "\n",
    "halo_pars = [halo_min, halo_max, I]\n",
    "np.savetxt('halo_params' + file_num + '.txt', halo_pars)\n"
   ]
  },
  {
   "cell_type": "code",
   "execution_count": null,
   "metadata": {},
   "outputs": [],
   "source": [
    "#Mapping by simply integrating in ROI_q\n",
    "\n",
    "#baseline = np.load('1434profile.npy')\n",
    "start_time = time.time() #time counter\n",
    "simple_map_data = np.zeros((map_width,map_width), dtype=np.float32) \n",
    "\n",
    "for i in range(map_width**2):\n",
    "        current_scan = all_scans[i]   \n",
    "        profile_sum = np.zeros(all_scans.shape[2], dtype=np.float32)\n",
    "        \n",
    "        j_counter = 0\n",
    "        for j in range (min_ROI_chi,max_ROI_chi):\n",
    "            profile = current_scan[j]           \n",
    "            if (-10 not in profile[min_ROI_q-70:max_ROI_q+70]):\n",
    "                profile_sum += profile\n",
    "                j_counter+=1\n",
    "        profile_sum/=j_counter\n",
    "        \n",
    "        base = peakutils.baseline(profile_sum[min_ROI_q-70:max_ROI_q+70], deg=5)\n",
    "        profile_sum[min_ROI_q-70:max_ROI_q+70]-=base\n",
    "        I =scipy.integrate.trapz(y = profile_sum[min_ROI_q:max_ROI_q], x = q_set[min_ROI_q:max_ROI_q])\n",
    "        x = int(i%map_width)\n",
    "        y = int(i//map_width)\n",
    "        \n",
    "        simple_map_data[y, x]=I\n",
    "        print(i,\"--- %s seconds ---\" % (time.time() - start_time))\n",
    "\n",
    "#saving map data\n",
    "\n",
    "#np.save(file_num + 'simple_map_data', simple_map_data)"
   ]
  },
  {
   "cell_type": "code",
   "execution_count": null,
   "metadata": {},
   "outputs": [],
   "source": [
    "plt.imshow(simple_map_data, cmap = \"jet\") #jet, magma, inferno, copper\n",
    "plt.figure(figsize=(15,15))\n",
    "\n",
    "plt.imsave(file_num +\"map_q_{}-{}_chi_{}-{}-savitskiy_jet.png\".format(min_ROI_q, max_ROI_q, min_ROI_chi, max_ROI_chi), \\\n",
    "          simple_map_data, cmap = \"jet\")\n"
   ]
  },
  {
   "cell_type": "code",
   "execution_count": null,
   "metadata": {},
   "outputs": [],
   "source": [
    "print(simple_map_data)"
   ]
  },
  {
   "cell_type": "code",
   "execution_count": null,
   "metadata": {},
   "outputs": [],
   "source": [
    "#Creating histogram\n",
    "test_data = simple_map_data.flatten()\n",
    "plt.hist(test_data, bins = 300)\n",
    "plt.show()\n",
    "#saving"
   ]
  },
  {
   "cell_type": "code",
   "execution_count": null,
   "metadata": {},
   "outputs": [],
   "source": [
    "#Thresholding map data after looking at a histogram\n",
    "\n",
    "masked_simple_map_data = np.zeros((map_width,map_width), dtype=np.float32) \n",
    "for i in range(map_width**2):\n",
    "    x = int(i%map_width)\n",
    "    y = int(i//map_width)\n",
    "    if simple_map_data[x,y]>22:\n",
    "        masked_simple_map_data[x,y] = simple_map_data[x,y] \n",
    "        \n",
    "plt.imshow(masked_simple_map_data, cmap = \"jet\")\n",
    "plt.figure(figsize=(15,15))"
   ]
  },
  {
   "cell_type": "code",
   "execution_count": null,
   "metadata": {},
   "outputs": [],
   "source": [
    "#Creating mask\n",
    "\n",
    "mask = np.load('1434mask_data.npy')\n",
    "plt.imshow(mask, cmap = \"jet\") #jet, magma, inferno, copper\n",
    "plt.figure(figsize=(15,15))\n",
    "#mask = masked_simple_map_data > 0\n",
    "#saving map data and mask\n",
    "\n",
    "#plt.imsave(file_num +\"map_q_{}-{}_chi_{}-{}-masked_jet.png\".format(min_ROI_q, max_ROI_q, min_ROI_chi,\\\n",
    " #                                                                  max_ROI_chi), masked_simple_map_data, cmap = \"jet\")\n",
    "#np.save(file_num + \"masked_map_data\", masked_simple_map_data)\n",
    "#np.save(file_num + \"mask_data\", mask)"
   ]
  },
  {
   "cell_type": "code",
   "execution_count": null,
   "metadata": {},
   "outputs": [],
   "source": [
    "#Getting a normalized masked  profile of ROI_q\n",
    "scan_count = 0\n",
    "masked_scan_sum = np.zeros((all_scans.shape[1],all_scans.shape[2]), dtype = np.float32)\n",
    "start_time = time.time()\n",
    "for i in range(map_width**2):\n",
    "    x = int(i%map_width)\n",
    "    y = int(i//map_width)\n",
    "    if not mask[y,x]:\n",
    "        masked_scan_sum+=all_scans[i]\n",
    "        scan_count +=1\n",
    "        \n",
    "    print(i,\"--- %s seconds ---\" % (time.time() - start_time))\n",
    "    \n",
    "masked_scan_sum/=scan_count #normalizing\n",
    "\n",
    "#saving\n",
    "np.save(file_num + 'negative_masked_scan_sum', masked_scan_sum)"
   ]
  },
  {
   "cell_type": "code",
   "execution_count": null,
   "metadata": {},
   "outputs": [],
   "source": [
    "plt.imshow(map_data, cmap = \"magma\")\n",
    "plt.figure(figsize=(15,15))"
   ]
  },
  {
   "cell_type": "code",
   "execution_count": null,
   "metadata": {},
   "outputs": [],
   "source": [
    "file.close()"
   ]
  }
 ],
 "metadata": {
  "kernelspec": {
   "display_name": "Python 3",
   "language": "python",
   "name": "python3"
  },
  "language_info": {
   "codemirror_mode": {
    "name": "ipython",
    "version": 3
   },
   "file_extension": ".py",
   "mimetype": "text/x-python",
   "name": "python",
   "nbconvert_exporter": "python",
   "pygments_lexer": "ipython3",
   "version": "3.7.1"
  }
 },
 "nbformat": 4,
 "nbformat_minor": 2
}
